{
 "cells": [
  {
   "cell_type": "markdown",
   "id": "7eeef380-d0a7-408b-aaa9-420ab07aba44",
   "metadata": {},
   "source": [
    "# 1. Import all the libraries"
   ]
  },
  {
   "cell_type": "code",
   "execution_count": null,
   "id": "2e95ea8f-918f-48ee-93e3-4553517243f8",
   "metadata": {
    "tags": []
   },
   "outputs": [],
   "source": [
    "# pip install jupyterlab mmh3 matplotlib numpy scipy seaborn pandas ipywidgets\n",
    "\n",
    "import mmh3\n",
    "import numpy as np\n",
    "import seaborn as sns\n",
    "from collections import defaultdict\n",
    "import matplotlib.pyplot as plt\n",
    "from ipywidgets import interact\n",
    "import scipy.stats as stats\n",
    "import pandas as pd\n",
    "import warnings\n",
    "warnings.filterwarnings('ignore')"
   ]
  },
  {
   "cell_type": "markdown",
   "id": "f950bf65-544e-4ced-af71-c6fc8f80881e",
   "metadata": {},
   "source": [
    "# 2. Sample size calculation - Two tailed test"
   ]
  },
  {
   "cell_type": "code",
   "execution_count": null,
   "id": "0f36a5ca-acdb-4ea9-8e87-be7944125978",
   "metadata": {
    "tags": []
   },
   "outputs": [],
   "source": [
    "mean_of_primary_metric = 0.11\n",
    "variance_of_primary_metric = 0.22\n",
    "\n",
    "def calculate_sample_size(minimum_detectable_effect):\n",
    "    sample_size = 15.7 * variance_of_primary_metric / ((mean_of_primary_metric * minimum_detectable_effect * 0.01) * (mean_of_primary_metric * minimum_detectable_effect * 0.01))\n",
    "    return round(sample_size)\n",
    "\n",
    "for mde in [0.5, 0.6, 0.7, 0.8, 0.9, 1.0, 1.1, 1.2, 1.3, 1.4, 1.5]:\n",
    "    sample_size = calculate_sample_size(mde)\n",
    "    print(f\"mde={mde}, sample_size={sample_size}\")\n",
    "        "
   ]
  },
  {
   "cell_type": "code",
   "execution_count": null,
   "id": "8ba79f26-8a05-44a0-876f-d380fa27d0a0",
   "metadata": {
    "tags": []
   },
   "outputs": [],
   "source": [
    "%matplotlib inline\n",
    "\n",
    "minimum_detectable_effect = np.linspace(0.5, 1.5, 11)\n",
    "\n",
    "@interact(mean=(0, 1, .1), variance=(0, 1, .1))\n",
    "def plot(mean=0.25, variance=0.25):\n",
    "    sample_size = 16 * variance / ((mean * minimum_detectable_effect * 0.01) * (mean * minimum_detectable_effect * 0.01))\n",
    "    plt.figure(figsize=(10,5))\n",
    "    plt.plot(minimum_detectable_effect, sample_size, 'o:', ms=10, mec = 'r')\n",
    "    plt.ylim([0, 10000000])\n",
    "    plt.xlim([0.4, 1.6])\n",
    "    plt.title('\\nSample size = 15.7 * Variance / (Mean * Minimum Detectable Effect)^2\\n\\n')\n",
    "    plt.xlabel(\"Minimum Detectable Effect\")\n",
    "    plt.ylabel(\"Sample size\")\n",
    "    current_values = plt.gca().get_yticks()\n",
    "    plt.gca().set_yticklabels(['{:,.0f}'.format(x) for x in current_values])\n",
    "    \n",
    "    for x,y in zip(minimum_detectable_effect, sample_size):\n",
    "        label = \"{:.0f}\".format(y)\n",
    "        plt.annotate(label,\n",
    "                     (x,y),\n",
    "                     textcoords=\"offset points\",\n",
    "                     xytext=(0,10),\n",
    "                     ha='center')\n",
    "    \n",
    "    plt.show()"
   ]
  },
  {
   "cell_type": "markdown",
   "id": "d461ad93-a6d0-40c7-bcf5-69cd44aa4887",
   "metadata": {
    "tags": []
   },
   "source": [
    "# 3. Mumur3 hash"
   ]
  },
  {
   "cell_type": "markdown",
   "id": "03d5f979-2fd9-4221-8e4d-bc8de8030292",
   "metadata": {},
   "source": [
    "# 3.1 Fix the seed"
   ]
  },
  {
   "cell_type": "code",
   "execution_count": null,
   "id": "01c731bc-14d6-4df2-810c-c0218ad71e86",
   "metadata": {
    "tags": []
   },
   "outputs": [],
   "source": [
    "seed = 42"
   ]
  },
  {
   "cell_type": "markdown",
   "id": "222dcde3-65be-4d56-b84b-18a44abe1d99",
   "metadata": {},
   "source": [
    "# 3.2 Same input -> Same output"
   ]
  },
  {
   "cell_type": "code",
   "execution_count": null,
   "id": "05e42079-94c1-4d82-a694-f198915c4d9b",
   "metadata": {
    "tags": []
   },
   "outputs": [],
   "source": [
    "print(mmh3.hash128(\"10\"), seed)"
   ]
  },
  {
   "cell_type": "code",
   "execution_count": null,
   "id": "b2587dd6-9ce7-4a09-8476-6e226898909f",
   "metadata": {
    "tags": []
   },
   "outputs": [],
   "source": [
    "print(mmh3.hash128(\"10\"), seed)"
   ]
  },
  {
   "cell_type": "markdown",
   "id": "14782438-910c-4847-aa8e-8f7f22d5dfe0",
   "metadata": {},
   "source": [
    "## 3.3 Avalanche Effect"
   ]
  },
  {
   "cell_type": "code",
   "execution_count": null,
   "id": "cc2f6fb3-b71b-4202-b2b4-9c92042bc276",
   "metadata": {
    "tags": []
   },
   "outputs": [],
   "source": [
    "print(mmh3.hash128(\"123\", seed))\n",
    "print(mmh3.hash128(\"123\", seed) % 10)"
   ]
  },
  {
   "cell_type": "code",
   "execution_count": null,
   "id": "14a427de-0671-436d-9dc9-2c7ed9d1b199",
   "metadata": {
    "tags": []
   },
   "outputs": [],
   "source": [
    "print(mmh3.hash128(\"124\", seed))\n",
    "print(mmh3.hash128(\"124\", seed) % 10)"
   ]
  },
  {
   "cell_type": "code",
   "execution_count": null,
   "id": "4c5be5a4-78a3-4afe-af76-cfb45899d772",
   "metadata": {
    "tags": []
   },
   "outputs": [],
   "source": [
    "print(mmh3.hash128(\"125\", seed))\n",
    "print(mmh3.hash128(\"125\", seed) % 10)"
   ]
  },
  {
   "cell_type": "code",
   "execution_count": null,
   "id": "47a0f418-3731-4ca1-81da-0e5b3334ce11",
   "metadata": {
    "tags": []
   },
   "outputs": [],
   "source": [
    "print(mmh3.hash128(\"126\", seed))\n",
    "print(mmh3.hash128(\"126\", seed) % 10)"
   ]
  },
  {
   "cell_type": "markdown",
   "id": "c3b6d3e4-1d8e-4d41-8658-c9d85019e35c",
   "metadata": {},
   "source": [
    "## 3.4 Uncorrelated hash values"
   ]
  },
  {
   "cell_type": "code",
   "execution_count": null,
   "id": "6f36ab23-4d94-466c-9c68-7adf0d8ba78c",
   "metadata": {
    "tags": []
   },
   "outputs": [],
   "source": [
    "# calculate the mod values & update the counter\n",
    "mod_counts = defaultdict(int)\n",
    "for i in range(1000000):\n",
    "    mod = mmh3.hash128(str(i), seed)%10\n",
    "    mod_counts[mod] += 1\n",
    "\n",
    "# plot the counts\n",
    "plt.bar(range(len(mod_counts)), list(mod_counts.values()), align=\"center\")\n",
    "plt.xticks(range(len(mod_counts)), list(mod_counts.keys()))\n",
    "plt.show()"
   ]
  },
  {
   "cell_type": "markdown",
   "id": "5ae542c5-62eb-4372-90f4-7443f0da0849",
   "metadata": {},
   "source": [
    "# 4. User to Experiment assigment"
   ]
  },
  {
   "cell_type": "markdown",
   "id": "fab6b3f7-1814-4c75-a1a4-7caf2448885e",
   "metadata": {},
   "source": [
    "# 4.1 User assignment to buckets & Variants"
   ]
  },
  {
   "cell_type": "code",
   "execution_count": null,
   "id": "40f674ef-3e3c-4a85-904e-668b0e66cc85",
   "metadata": {
    "tags": []
   },
   "outputs": [],
   "source": [
    "%matplotlib inline\n",
    "\n",
    "@interact(user_id=(1, 500, 1))\n",
    "def plot(user_id=0.25):\n",
    "    plane_news_feed = mmh3.hash128(str(user_id) + str(\"News_feed\"), seed) % 1000\n",
    "    plane_messenger_feed = mmh3.hash128(str(user_id) + str(\"Messenger_feed\"), seed) % 1000\n",
    "    plane_groups_feed = mmh3.hash128(str(user_id) + str(\"Groups_feed\"), seed) % 1000\n",
    "    plane_games_feed = mmh3.hash128(str(user_id) + str(\"Games_feed\"), seed) % 1000\n",
    "    \n",
    "    variant_news_feed = mmh3.hash128(str(user_id) + str(\"News_feed\") + \"Exp1\", seed) % 2\n",
    "    variant_messenger_feed = mmh3.hash128(str(user_id) + str(\"Messenger_feed\") + \"Exp2\", seed) % 2\n",
    "    variant_groups_feed = mmh3.hash128(str(user_id) + str(\"Groups_feed\") + \"Exp3\", seed) % 2\n",
    "    variant_games_feed = mmh3.hash128(str(user_id) + str(\"Games_feed\") + \"Exp4\", seed) % 2\n",
    "    \n",
    "    print(f\"News feed plane bucket = {plane_news_feed}, Variant = {'Control' if variant_news_feed==1 else 'Treatment'}\")\n",
    "    print(f\"Messenger feed plane bucket = {plane_messenger_feed}, Variant = {'Control' if variant_messenger_feed==1 else 'Treatment'}\")\n",
    "    print(f\"Groups feed plane bucket = {plane_groups_feed}, Variant = {'Control' if variant_groups_feed==1 else 'Treatment'}\")\n",
    "    print(f\"Games feed plane bucket = {plane_games_feed}, Variant = {'Control' if variant_games_feed==1 else 'Treatment'}\")\n",
    "    "
   ]
  },
  {
   "cell_type": "markdown",
   "id": "205435ef-014c-4ede-8ad1-b6640288036f",
   "metadata": {},
   "source": [
    "# 5. Dataset"
   ]
  },
  {
   "cell_type": "code",
   "execution_count": null,
   "id": "ca772b24-8bd8-46fd-a6e6-65b3f78cc259",
   "metadata": {
    "tags": []
   },
   "outputs": [],
   "source": [
    "no_of_samples1 = 10000\n",
    "no_of_samples2 = 10500\n",
    "\n",
    "x = 3 + 5 * np.random.randn(no_of_samples1)\n",
    "y = 10 + 7 * np.random.randn(no_of_samples2)\n",
    "\n",
    "df = pd.DataFrame(data={'Time spent in control': x, 'Time spent in variant': y[:no_of_samples1]})\n",
    "display(df)\n",
    "\n",
    "sns.histplot(x, color=\"green\")\n",
    "sns.histplot(y, color=\"red\")\n",
    "plt.legend(labels=['Control', 'Treatment'])"
   ]
  },
  {
   "cell_type": "markdown",
   "id": "5d4f01bc-446c-4b6e-911b-901caeeb1ae1",
   "metadata": {},
   "source": [
    "# 5. Welch's t-test"
   ]
  },
  {
   "cell_type": "code",
   "execution_count": null,
   "id": "9fd6959f-de4d-43cb-81c9-1935de261567",
   "metadata": {
    "tags": []
   },
   "outputs": [],
   "source": [
    "def welchs_t_test_stats_library(x, y):\n",
    "    t_value, p_value = stats.ttest_ind(x, y, equal_var=False)\n",
    "    p_value = p_value/2\n",
    "    return t_value, p_value\n",
    "\n",
    "\n",
    "def welchs_t_test_from_scratch(x, y):\n",
    "    n1 = len(x)\n",
    "    n2 = len(y)\n",
    "    mean_x = np.mean(x)\n",
    "    mean_y = np.mean(y)\n",
    "    var_x = np.var(x, ddof=1)\n",
    "    var_y = np.var(y, ddof=1)\n",
    "    var = (((n1 - 1) * var_x) + ((n2 - 1) * var_y)) / (n1 + n2 - 2)\n",
    "    std_error = np.sqrt(var * (1.0 / n1 + 1.0 / n2))\n",
    "    t_value_absolute = abs(mean_x - mean_y) / std_error\n",
    "    t_value = (mean_x - mean_y) / std_error\n",
    "    p_value = 1 - stats.t.cdf(x=t_value_absolute, df=n1 + n2 - 2)\n",
    "    return t_value, p_value\n",
    "\n",
    "t_dist = stats.t(no_of_samples1 + no_of_samples2 - 2)\n",
    "fill_color = (0, 0, 0, 0.1)  # Light gray in RGBA format.\n",
    "line_color = (0, 0, 0, 0.5)  # Medium gray in RGBA format.\n",
    "red_color = (1, 0, 0, 0.5)  # Medium gray in RGBA format."
   ]
  },
  {
   "cell_type": "markdown",
   "id": "4e696e18-e0f6-45b3-946a-f41bd29e7df4",
   "metadata": {},
   "source": [
    "## 6.1 Test 1: distributions are same"
   ]
  },
  {
   "cell_type": "code",
   "execution_count": null,
   "id": "fc78ee9d-85be-49de-a55c-b3fee79a5f86",
   "metadata": {
    "tags": []
   },
   "outputs": [],
   "source": [
    "x = 3 + 5 * np.random.randn(no_of_samples1)\n",
    "y = 3 + 5 * np.random.randn(no_of_samples2)\n",
    "\n",
    "sns.histplot(x, color=\"green\")\n",
    "sns.histplot(y, color=\"red\")\n",
    "plt.legend(labels=['Control', 'Treatment'])"
   ]
  },
  {
   "cell_type": "code",
   "execution_count": null,
   "id": "8bc46a5b-5b7c-42be-852a-19fac524e8de",
   "metadata": {
    "tags": []
   },
   "outputs": [],
   "source": [
    "t_value, p_value = welchs_t_test_from_scratch(x, y)\n",
    "t_value = round(t_value, 5)\n",
    "p_value = round(p_value, 5)\n",
    "print(f\"t-value = {t_value}, p-value = {p_value}\")"
   ]
  },
  {
   "cell_type": "code",
   "execution_count": null,
   "id": "2e8a0407-7867-4a55-8d4a-0511306d3394",
   "metadata": {
    "tags": []
   },
   "outputs": [],
   "source": [
    "t_values = np.linspace(-5, 5, 1000)\n",
    "pdf_values = t_dist.pdf(t_values)\n",
    "cdf_values = t_dist.cdf(t_values)\n",
    "\n",
    "plt.plot(t_values, pdf_values)\n",
    "if t_value > 0:\n",
    "    plt.fill_between(t_values, pdf_values, where=t_values >= t_value, color=fill_color)\n",
    "    plt.fill_between(t_values, pdf_values, where=t_values >= 1.96, color=red_color)\n",
    "else:\n",
    "    plt.fill_between(t_values, pdf_values, where=t_values <= t_value, color=fill_color)\n",
    "    plt.fill_between(t_values, pdf_values, where=t_values <= -1.96, color=red_color)\n",
    "pd = t_dist.pdf(t_value)\n",
    "plt.plot([t_value, t_value], [0, pd], color=line_color)\n",
    "plt.title(f\"t-value = {t_value}, p-value = {p_value}\")\n",
    "\n",
    "plt.show()"
   ]
  },
  {
   "cell_type": "code",
   "execution_count": null,
   "id": "d960192b-c65b-403d-8a8b-54bafc9334f5",
   "metadata": {
    "tags": []
   },
   "outputs": [],
   "source": [
    "if p_value < 0.05:\n",
    "    print(\"Reject the null hypothesis. Scale up the varaint. Make it as new control\")\n",
    "else:\n",
    "    print(\"Do not reject the null hypothesis. Do not scale up the varaint\")"
   ]
  },
  {
   "cell_type": "markdown",
   "id": "94c5a5d4-022e-41ac-b6a9-5786921cdce4",
   "metadata": {
    "tags": []
   },
   "source": [
    "## 6.2 Test 2: means are different"
   ]
  },
  {
   "cell_type": "code",
   "execution_count": null,
   "id": "d7df4299-bfcc-4e11-ae8e-9d600b277cfa",
   "metadata": {
    "tags": []
   },
   "outputs": [],
   "source": [
    "x = 3 + 5 * np.random.randn(no_of_samples1)\n",
    "y = 4 + 5 * np.random.randn(no_of_samples2)\n",
    "\n",
    "sns.histplot(x, color=\"green\")\n",
    "sns.histplot(y, color=\"red\")\n",
    "plt.legend(labels=['Control', 'Treatment'])"
   ]
  },
  {
   "cell_type": "code",
   "execution_count": null,
   "id": "a8e50af0-bed3-4409-b106-0a7fb48ab9f2",
   "metadata": {
    "tags": []
   },
   "outputs": [],
   "source": [
    "t_value, p_value = welchs_t_test_stats_library(x, y)\n",
    "t_value = round(t_value, 5)\n",
    "p_value = round(p_value, 5)\n",
    "print(f\"t-value = {t_value}, p-value = {p_value}\")"
   ]
  },
  {
   "cell_type": "code",
   "execution_count": null,
   "id": "f3934009-069d-4656-86c4-7020ea351e8f",
   "metadata": {
    "tags": []
   },
   "outputs": [],
   "source": [
    "t_values = np.linspace(-15, 15, 1000)\n",
    "pdf_values = t_dist.pdf(t_values)\n",
    "cdf_values = t_dist.cdf(t_values)\n",
    "\n",
    "plt.plot(t_values, pdf_values)\n",
    "if t_value > 0:\n",
    "    plt.fill_between(t_values, pdf_values, where=t_values >= t_value, color=fill_color)\n",
    "    plt.fill_between(t_values, pdf_values, where=t_values >= 1.96, color=red_color)\n",
    "else:\n",
    "    plt.fill_between(t_values, pdf_values, where=t_values <= t_value, color=fill_color)\n",
    "    plt.fill_between(t_values, pdf_values, where=t_values <= -1.96, color=red_color)\n",
    "pd = t_dist.pdf(t_value)\n",
    "plt.plot([t_value, t_value], [0, pd], color=line_color)\n",
    "plt.title(f\"t-value = {t_value}, p-value = {p_value}\")\n",
    "\n",
    "plt.show()"
   ]
  },
  {
   "cell_type": "code",
   "execution_count": null,
   "id": "495e202b-eb7e-483a-b1c1-e84e081f6956",
   "metadata": {
    "tags": []
   },
   "outputs": [],
   "source": [
    "if p_value < 0.05:\n",
    "    print(\"Reject the null hypothesis. Scale up the varaint. Make it as new control\")\n",
    "else:\n",
    "    print(\"Do not reject the null hypothesis. Do not scale up the varaint\")"
   ]
  },
  {
   "cell_type": "markdown",
   "id": "e7d73d70-3300-4e38-906a-7914a901a96e",
   "metadata": {},
   "source": [
    "## 6.3 Test 3: standard deviations are different"
   ]
  },
  {
   "cell_type": "code",
   "execution_count": null,
   "id": "a41ea0e1-522e-460b-9f69-2c2cc01944c8",
   "metadata": {
    "tags": []
   },
   "outputs": [],
   "source": [
    "x = 3 + 25 * np.random.randn(no_of_samples1)\n",
    "y = 3 + 5 * np.random.randn(no_of_samples2)\n",
    "\n",
    "sns.histplot(x, color=\"green\")\n",
    "sns.histplot(y, color=\"red\")\n",
    "plt.legend(labels=['Control', 'Treatment'])"
   ]
  },
  {
   "cell_type": "code",
   "execution_count": null,
   "id": "daca50d9-1111-4422-b309-c885651ab874",
   "metadata": {
    "tags": []
   },
   "outputs": [],
   "source": [
    "t_value, p_value = welchs_t_test_stats_library(x, y)\n",
    "t_value = round(t_value, 5)\n",
    "p_value = round(p_value, 5)\n",
    "print(f\"t-value = {t_value}, p-value = {p_value}\")"
   ]
  },
  {
   "cell_type": "code",
   "execution_count": null,
   "id": "07f4eec2-4c12-4dcc-85fd-a49652aec05b",
   "metadata": {
    "tags": []
   },
   "outputs": [],
   "source": [
    "t_values = np.linspace(-5, 5, 1000)\n",
    "pdf_values = t_dist.pdf(t_values)\n",
    "cdf_values = t_dist.cdf(t_values)\n",
    "\n",
    "plt.plot(t_values, pdf_values)\n",
    "if t_value > 0:\n",
    "    plt.fill_between(t_values, pdf_values, where=t_values >= t_value, color=fill_color)\n",
    "    plt.fill_between(t_values, pdf_values, where=t_values >= 1.96, color=red_color)\n",
    "else:\n",
    "    plt.fill_between(t_values, pdf_values, where=t_values <= t_value, color=fill_color)\n",
    "    plt.fill_between(t_values, pdf_values, where=t_values <= -1.96, color=red_color)\n",
    "pd = t_dist.pdf(t_value)\n",
    "plt.plot([t_value, t_value], [0, pd], color=line_color)\n",
    "plt.title(f\"t-value = {t_value}, p-value = {p_value}\")\n",
    "\n",
    "plt.show()"
   ]
  },
  {
   "cell_type": "code",
   "execution_count": null,
   "id": "7879cfd2-4e87-4ea7-8c25-85268cfdaae3",
   "metadata": {
    "tags": []
   },
   "outputs": [],
   "source": [
    "if p_value < 0.05:\n",
    "    print(\"Reject the null hypothesis. Scale up the varaint. Make it as new control\")\n",
    "else:\n",
    "    print(\"Do not reject the null hypothesis. Do not scale up the varaint\")"
   ]
  },
  {
   "cell_type": "code",
   "execution_count": null,
   "id": "35822306-4de6-40a2-b089-9c61b84e81b5",
   "metadata": {},
   "outputs": [],
   "source": []
  }
 ],
 "metadata": {
  "kernelspec": {
   "display_name": "Python 3 (ipykernel)",
   "language": "python",
   "name": "python3"
  },
  "language_info": {
   "codemirror_mode": {
    "name": "ipython",
    "version": 3
   },
   "file_extension": ".py",
   "mimetype": "text/x-python",
   "name": "python",
   "nbconvert_exporter": "python",
   "pygments_lexer": "ipython3",
   "version": "3.9.17"
  }
 },
 "nbformat": 4,
 "nbformat_minor": 5
}
